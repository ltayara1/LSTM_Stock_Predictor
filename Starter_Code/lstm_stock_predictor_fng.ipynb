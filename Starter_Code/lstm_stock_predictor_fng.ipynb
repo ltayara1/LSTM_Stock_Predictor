{
 "cells": [
  {
   "cell_type": "markdown",
   "metadata": {},
   "source": [
    "# LSTM Stock Predictor Using Fear and Greed Index\n",
    "\n",
    "In this notebook, you will build and train a custom LSTM RNN that uses a 10 day window of Bitcoin fear and greed index values to predict the 11th day closing price. \n",
    "\n",
    "You will need to:\n",
    "\n",
    "1. Prepare the data for training and testing\n",
    "2. Build and train a custom LSTM RNN\n",
    "3. Evaluate the performance of the model"
   ]
  },
  {
   "cell_type": "markdown",
   "metadata": {},
   "source": [
    "## Data Preparation\n",
    "\n",
    "In this section, you will need to prepare the training and testing data for the model. The model will use a rolling 10 day window to predict the 11th day closing price.\n",
    "\n",
    "You will need to:\n",
    "1. Use the `window_data` function to generate the X and y values for the model.\n",
    "2. Split the data into 70% training and 30% testing\n",
    "3. Apply the MinMaxScaler to the X and y values\n",
    "4. Reshape the X_train and X_test data for the model. Note: The required input format for the LSTM is:\n",
    "\n",
    "```python\n",
    "reshape((X_train.shape[0], X_train.shape[1], 1))\n",
    "```"
   ]
  },
  {
   "cell_type": "code",
   "execution_count": 393,
   "metadata": {},
   "outputs": [],
   "source": [
    "import numpy as np\n",
    "import pandas as pd\n",
    "import hvplot.pandas"
   ]
  },
  {
   "cell_type": "code",
   "execution_count": 394,
   "metadata": {},
   "outputs": [],
   "source": [
    "# Set the random seed for reproducibility\n",
    "# Note: This is for the homework solution, but it is good practice to comment this out and run multiple experiments to evaluate your model\n",
    "from numpy.random import seed\n",
    "seed(1)\n",
    "from tensorflow import random\n",
    "random.set_seed(2)"
   ]
  },
  {
   "cell_type": "code",
   "execution_count": 395,
   "metadata": {},
   "outputs": [
    {
     "data": {
      "text/html": [
       "<div>\n",
       "<style scoped>\n",
       "    .dataframe tbody tr th:only-of-type {\n",
       "        vertical-align: middle;\n",
       "    }\n",
       "\n",
       "    .dataframe tbody tr th {\n",
       "        vertical-align: top;\n",
       "    }\n",
       "\n",
       "    .dataframe thead th {\n",
       "        text-align: right;\n",
       "    }\n",
       "</style>\n",
       "<table border=\"1\" class=\"dataframe\">\n",
       "  <thead>\n",
       "    <tr style=\"text-align: right;\">\n",
       "      <th></th>\n",
       "      <th>fng_value</th>\n",
       "    </tr>\n",
       "    <tr>\n",
       "      <th>date</th>\n",
       "      <th></th>\n",
       "    </tr>\n",
       "  </thead>\n",
       "  <tbody>\n",
       "    <tr>\n",
       "      <th>2019-07-29</th>\n",
       "      <td>19</td>\n",
       "    </tr>\n",
       "    <tr>\n",
       "      <th>2019-07-28</th>\n",
       "      <td>16</td>\n",
       "    </tr>\n",
       "    <tr>\n",
       "      <th>2019-07-27</th>\n",
       "      <td>47</td>\n",
       "    </tr>\n",
       "    <tr>\n",
       "      <th>2019-07-26</th>\n",
       "      <td>24</td>\n",
       "    </tr>\n",
       "    <tr>\n",
       "      <th>2019-07-25</th>\n",
       "      <td>42</td>\n",
       "    </tr>\n",
       "  </tbody>\n",
       "</table>\n",
       "</div>"
      ],
      "text/plain": [
       "             fng_value\n",
       "date                  \n",
       "2019-07-29          19\n",
       "2019-07-28          16\n",
       "2019-07-27          47\n",
       "2019-07-26          24\n",
       "2019-07-25          42"
      ]
     },
     "execution_count": 395,
     "metadata": {},
     "output_type": "execute_result"
    }
   ],
   "source": [
    "# Load the fear and greed sentiment data for Bitcoin\n",
    "df = pd.read_csv('btc_sentiment.csv', index_col=\"date\", infer_datetime_format=True, parse_dates=True)\n",
    "df = df.drop(columns=\"fng_classification\")\n",
    "df.head()"
   ]
  },
  {
   "cell_type": "code",
   "execution_count": 396,
   "metadata": {},
   "outputs": [
    {
     "data": {
      "text/plain": [
       "Date\n",
       "2019-07-25    9882.429688\n",
       "2019-07-26    9847.450195\n",
       "2019-07-27    9478.320313\n",
       "2019-07-28    9531.769531\n",
       "2019-07-29    9529.889648\n",
       "Name: Close, dtype: float64"
      ]
     },
     "execution_count": 396,
     "metadata": {},
     "output_type": "execute_result"
    }
   ],
   "source": [
    "# Load the historical closing prices for Bitcoin\n",
    "df2 = pd.read_csv('btc_historic.csv', index_col=\"Date\", infer_datetime_format=True, parse_dates=True)['Close']\n",
    "df2 = df2.sort_index()\n",
    "df2.tail()"
   ]
  },
  {
   "cell_type": "code",
   "execution_count": 397,
   "metadata": {},
   "outputs": [
    {
     "data": {
      "text/html": [
       "<div>\n",
       "<style scoped>\n",
       "    .dataframe tbody tr th:only-of-type {\n",
       "        vertical-align: middle;\n",
       "    }\n",
       "\n",
       "    .dataframe tbody tr th {\n",
       "        vertical-align: top;\n",
       "    }\n",
       "\n",
       "    .dataframe thead th {\n",
       "        text-align: right;\n",
       "    }\n",
       "</style>\n",
       "<table border=\"1\" class=\"dataframe\">\n",
       "  <thead>\n",
       "    <tr style=\"text-align: right;\">\n",
       "      <th></th>\n",
       "      <th>fng_value</th>\n",
       "      <th>Close</th>\n",
       "    </tr>\n",
       "  </thead>\n",
       "  <tbody>\n",
       "    <tr>\n",
       "      <th>2019-07-25</th>\n",
       "      <td>42</td>\n",
       "      <td>9882.429688</td>\n",
       "    </tr>\n",
       "    <tr>\n",
       "      <th>2019-07-26</th>\n",
       "      <td>24</td>\n",
       "      <td>9847.450195</td>\n",
       "    </tr>\n",
       "    <tr>\n",
       "      <th>2019-07-27</th>\n",
       "      <td>47</td>\n",
       "      <td>9478.320313</td>\n",
       "    </tr>\n",
       "    <tr>\n",
       "      <th>2019-07-28</th>\n",
       "      <td>16</td>\n",
       "      <td>9531.769531</td>\n",
       "    </tr>\n",
       "    <tr>\n",
       "      <th>2019-07-29</th>\n",
       "      <td>19</td>\n",
       "      <td>9529.889648</td>\n",
       "    </tr>\n",
       "  </tbody>\n",
       "</table>\n",
       "</div>"
      ],
      "text/plain": [
       "             fng_value        Close\n",
       "2019-07-25          42  9882.429688\n",
       "2019-07-26          24  9847.450195\n",
       "2019-07-27          47  9478.320313\n",
       "2019-07-28          16  9531.769531\n",
       "2019-07-29          19  9529.889648"
      ]
     },
     "execution_count": 397,
     "metadata": {},
     "output_type": "execute_result"
    }
   ],
   "source": [
    "# Join the data into a single DataFrame\n",
    "df = df.join(df2, how=\"inner\")\n",
    "df.tail()"
   ]
  },
  {
   "cell_type": "code",
   "execution_count": 398,
   "metadata": {},
   "outputs": [
    {
     "data": {
      "text/html": [
       "<div>\n",
       "<style scoped>\n",
       "    .dataframe tbody tr th:only-of-type {\n",
       "        vertical-align: middle;\n",
       "    }\n",
       "\n",
       "    .dataframe tbody tr th {\n",
       "        vertical-align: top;\n",
       "    }\n",
       "\n",
       "    .dataframe thead th {\n",
       "        text-align: right;\n",
       "    }\n",
       "</style>\n",
       "<table border=\"1\" class=\"dataframe\">\n",
       "  <thead>\n",
       "    <tr style=\"text-align: right;\">\n",
       "      <th></th>\n",
       "      <th>fng_value</th>\n",
       "      <th>Close</th>\n",
       "    </tr>\n",
       "  </thead>\n",
       "  <tbody>\n",
       "    <tr>\n",
       "      <th>2018-02-01</th>\n",
       "      <td>30</td>\n",
       "      <td>9114.719727</td>\n",
       "    </tr>\n",
       "    <tr>\n",
       "      <th>2018-02-02</th>\n",
       "      <td>15</td>\n",
       "      <td>8870.820313</td>\n",
       "    </tr>\n",
       "    <tr>\n",
       "      <th>2018-02-03</th>\n",
       "      <td>40</td>\n",
       "      <td>9251.269531</td>\n",
       "    </tr>\n",
       "    <tr>\n",
       "      <th>2018-02-04</th>\n",
       "      <td>24</td>\n",
       "      <td>8218.049805</td>\n",
       "    </tr>\n",
       "    <tr>\n",
       "      <th>2018-02-05</th>\n",
       "      <td>11</td>\n",
       "      <td>6937.080078</td>\n",
       "    </tr>\n",
       "  </tbody>\n",
       "</table>\n",
       "</div>"
      ],
      "text/plain": [
       "             fng_value        Close\n",
       "2018-02-01          30  9114.719727\n",
       "2018-02-02          15  8870.820313\n",
       "2018-02-03          40  9251.269531\n",
       "2018-02-04          24  8218.049805\n",
       "2018-02-05          11  6937.080078"
      ]
     },
     "execution_count": 398,
     "metadata": {},
     "output_type": "execute_result"
    }
   ],
   "source": [
    "df.head()"
   ]
  },
  {
   "cell_type": "code",
   "execution_count": 399,
   "metadata": {},
   "outputs": [],
   "source": [
    "# This function accepts the column number for the features (X) and the target (y)\n",
    "# It chunks the data up with a rolling window of Xt-n to predict Xt\n",
    "# It returns a numpy array of X any y\n",
    "def window_data(df, window, feature_col_number, target_col_number):\n",
    "    X = []\n",
    "    y = []\n",
    "    for i in range(len(df) - window - 1):\n",
    "        features = df.iloc[i:(i + window), feature_col_number]\n",
    "        target = df.iloc[(i + window), target_col_number]\n",
    "        X.append(features)\n",
    "        y.append(target)\n",
    "    return np.array(X), np.array(y).reshape(-1, 1)"
   ]
  },
  {
   "cell_type": "code",
   "execution_count": 400,
   "metadata": {},
   "outputs": [],
   "source": [
    "# Predict Closing Prices using a 10 day window of previous fng values\n",
    "# Then, experiment with window sizes anywhere from 1 to 10 and see how the model performance changes\n",
    "window_size = 10\n",
    "\n",
    "# Column index 0 is the 'fng_value' column\n",
    "# Column index 1 is the `Close` column\n",
    "feature_column = 0\n",
    "target_column = 1\n",
    "X, y = window_data(df, window_size, feature_column, target_column)"
   ]
  },
  {
   "cell_type": "code",
   "execution_count": 401,
   "metadata": {},
   "outputs": [],
   "source": [
    "# Use 70% of the data for training and the remaineder for testing\n",
    "# YOUR CODE HERE!\n",
    "split = int(0.7 * len(X))\n",
    "X_train = X[: split - 1]\n",
    "X_test = X[split:]\n",
    "y_train = y[: split - 1]\n",
    "y_test = y[split:]"
   ]
  },
  {
   "cell_type": "code",
   "execution_count": 402,
   "metadata": {},
   "outputs": [
    {
     "data": {
      "text/plain": [
       "array([[0.33333333, 0.10606061, 0.48484848, 0.24242424, 0.04545455,\n",
       "        0.        , 0.41538462, 0.32307692, 0.53846154, 0.69230769],\n",
       "       [0.10606061, 0.48484848, 0.24242424, 0.04545455, 0.        ,\n",
       "        0.42424242, 0.32307692, 0.53846154, 0.69230769, 0.33846154],\n",
       "       [0.48484848, 0.24242424, 0.04545455, 0.        , 0.42424242,\n",
       "        0.33333333, 0.53846154, 0.69230769, 0.33846154, 0.50769231],\n",
       "       [0.24242424, 0.04545455, 0.        , 0.42424242, 0.33333333,\n",
       "        0.54545455, 0.69230769, 0.33846154, 0.50769231, 0.4       ],\n",
       "       [0.04545455, 0.        , 0.42424242, 0.33333333, 0.54545455,\n",
       "        0.6969697 , 0.33846154, 0.50769231, 0.4       , 0.70769231]])"
      ]
     },
     "execution_count": 402,
     "metadata": {},
     "output_type": "execute_result"
    }
   ],
   "source": [
    "from sklearn.preprocessing import MinMaxScaler\n",
    "# Use the MinMaxScaler to scale data between 0 and 1.\n",
    "# YOUR CODE HERE!\n",
    "X_train_scaler = MinMaxScaler()\n",
    "X_test_scaler = MinMaxScaler()\n",
    "y_train_scaler = MinMaxScaler()\n",
    "y_test_scaler = MinMaxScaler()\n",
    "\n",
    "X_train_scaler.fit(X_train)\n",
    "X_test_scaler.fit(X_test)\n",
    "y_train_scaler.fit(y_train)\n",
    "y_test_scaler.fit(y_test)\n",
    "\n",
    "X_train = X_train_scaler.transform(X_train)\n",
    "X_test = X_test_scaler.transform(X_test)\n",
    "y_train = y_train_scaler.transform(y_train)\n",
    "y_test = y_test_scaler.transform(y_test)\n",
    "\n",
    "X_train[:5]"
   ]
  },
  {
   "cell_type": "code",
   "execution_count": 403,
   "metadata": {},
   "outputs": [
    {
     "name": "stdout",
     "output_type": "stream",
     "text": [
      "X_train sample values:\n",
      "[[[0.33333333]\n",
      "  [0.10606061]\n",
      "  [0.48484848]\n",
      "  [0.24242424]\n",
      "  [0.04545455]\n",
      "  [0.        ]\n",
      "  [0.41538462]\n",
      "  [0.32307692]\n",
      "  [0.53846154]\n",
      "  [0.69230769]]\n",
      "\n",
      " [[0.10606061]\n",
      "  [0.48484848]\n",
      "  [0.24242424]\n",
      "  [0.04545455]\n",
      "  [0.        ]\n",
      "  [0.42424242]\n",
      "  [0.32307692]\n",
      "  [0.53846154]\n",
      "  [0.69230769]\n",
      "  [0.33846154]]\n",
      "\n",
      " [[0.48484848]\n",
      "  [0.24242424]\n",
      "  [0.04545455]\n",
      "  [0.        ]\n",
      "  [0.42424242]\n",
      "  [0.33333333]\n",
      "  [0.53846154]\n",
      "  [0.69230769]\n",
      "  [0.33846154]\n",
      "  [0.50769231]]\n",
      "\n",
      " [[0.24242424]\n",
      "  [0.04545455]\n",
      "  [0.        ]\n",
      "  [0.42424242]\n",
      "  [0.33333333]\n",
      "  [0.54545455]\n",
      "  [0.69230769]\n",
      "  [0.33846154]\n",
      "  [0.50769231]\n",
      "  [0.4       ]]\n",
      "\n",
      " [[0.04545455]\n",
      "  [0.        ]\n",
      "  [0.42424242]\n",
      "  [0.33333333]\n",
      "  [0.54545455]\n",
      "  [0.6969697 ]\n",
      "  [0.33846154]\n",
      "  [0.50769231]\n",
      "  [0.4       ]\n",
      "  [0.70769231]]] \n",
      "\n",
      "X_test sample values:\n",
      "[[[0.30379747]\n",
      "  [0.37974684]\n",
      "  [0.27848101]\n",
      "  [0.40506329]\n",
      "  [0.40506329]\n",
      "  [0.34177215]\n",
      "  [0.34177215]\n",
      "  [0.3164557 ]\n",
      "  [0.27848101]\n",
      "  [0.59493671]]\n",
      "\n",
      " [[0.37974684]\n",
      "  [0.27848101]\n",
      "  [0.40506329]\n",
      "  [0.40506329]\n",
      "  [0.34177215]\n",
      "  [0.34177215]\n",
      "  [0.3164557 ]\n",
      "  [0.27848101]\n",
      "  [0.59493671]\n",
      "  [0.62025316]]\n",
      "\n",
      " [[0.27848101]\n",
      "  [0.40506329]\n",
      "  [0.40506329]\n",
      "  [0.34177215]\n",
      "  [0.34177215]\n",
      "  [0.3164557 ]\n",
      "  [0.27848101]\n",
      "  [0.59493671]\n",
      "  [0.62025316]\n",
      "  [0.5443038 ]]\n",
      "\n",
      " [[0.40506329]\n",
      "  [0.40506329]\n",
      "  [0.34177215]\n",
      "  [0.34177215]\n",
      "  [0.3164557 ]\n",
      "  [0.27848101]\n",
      "  [0.59493671]\n",
      "  [0.62025316]\n",
      "  [0.5443038 ]\n",
      "  [0.5443038 ]]\n",
      "\n",
      " [[0.40506329]\n",
      "  [0.34177215]\n",
      "  [0.34177215]\n",
      "  [0.3164557 ]\n",
      "  [0.27848101]\n",
      "  [0.59493671]\n",
      "  [0.62025316]\n",
      "  [0.5443038 ]\n",
      "  [0.5443038 ]\n",
      "  [0.56962025]]]\n"
     ]
    }
   ],
   "source": [
    "# Reshape the features for the model\n",
    "# YOUR CODE HERE!\n",
    "X_train = X_train.reshape((X_train.shape[0], X_train.shape[1], 1))\n",
    "X_test = X_test.reshape((X_test.shape[0], X_test.shape[1], 1))\n",
    "print (f\"X_train sample values:\\n{X_train[:5]} \\n\")\n",
    "print (f\"X_test sample values:\\n{X_test[:5]}\")"
   ]
  },
  {
   "cell_type": "code",
   "execution_count": 404,
   "metadata": {},
   "outputs": [
    {
     "data": {
      "text/plain": [
       "(160, 10, 1)"
      ]
     },
     "execution_count": 404,
     "metadata": {},
     "output_type": "execute_result"
    }
   ],
   "source": [
    "X_test.shape"
   ]
  },
  {
   "cell_type": "markdown",
   "metadata": {},
   "source": [
    "---"
   ]
  },
  {
   "cell_type": "markdown",
   "metadata": {},
   "source": [
    "## Build and Train the LSTM RNN\n",
    "\n",
    "In this section, you will design a custom LSTM RNN and fit (train) it using the training data.\n",
    "\n",
    "You will need to:\n",
    "1. Define the model architecture\n",
    "2. Compile the model\n",
    "3. Fit the model to the training data\n",
    "\n",
    "### Hints:\n",
    "You will want to use the same model architecture and random seed for both notebooks. This is necessary to accurately compare the performance of the FNG model vs the closing price model. "
   ]
  },
  {
   "cell_type": "code",
   "execution_count": 405,
   "metadata": {},
   "outputs": [],
   "source": [
    "from tensorflow.keras.models import Sequential\n",
    "from tensorflow.keras.layers import LSTM, Dense, Dropout\n",
    "import tensorflow as tf"
   ]
  },
  {
   "cell_type": "code",
   "execution_count": 406,
   "metadata": {},
   "outputs": [],
   "source": [
    "# Build the LSTM model. \n",
    "# The return sequences need to be set to True if you are adding additional LSTM layers, but \n",
    "# You don't have to do this for the final layer. \n",
    "# Note: The dropouts help prevent overfitting\n",
    "# Note: The input shape is the number of time steps and the number of indicators\n",
    "# Note: Batching inputs has a different input shape of Samples/TimeSteps/Features\n",
    "\n",
    "# YOUR CODE HERE!\n",
    "\n",
    "# Define the LSTM RNN model\n",
    "model = Sequential()\n",
    "\n",
    "# Layer 1\n",
    "model.add(LSTM(units=30, return_sequences = True, input_shape = (X_train.shape[1], 1)))\n",
    "model.add(Dropout(0.2))\n",
    "\n",
    "# Layer 2\n",
    "model.add(LSTM(units=30, return_sequences = True))\n",
    "model.add(Dropout(0.2))\n",
    "\n",
    "# Layer 3\n",
    "model.add(LSTM(units=30))\n",
    "model.add(Dropout(0.2))\n",
    "\n",
    "# Output layer\n",
    "model.add(Dense(units=1))"
   ]
  },
  {
   "cell_type": "code",
   "execution_count": 407,
   "metadata": {},
   "outputs": [],
   "source": [
    "# Compile the model\n",
    "# YOUR CODE HERE!\n",
    "model.compile(\n",
    "    loss=\"mean_squared_error\",\n",
    "    optimizer=\"adam\"\n",
    ")"
   ]
  },
  {
   "cell_type": "code",
   "execution_count": 408,
   "metadata": {},
   "outputs": [
    {
     "name": "stdout",
     "output_type": "stream",
     "text": [
      "Model: \"sequential_26\"\n",
      "_________________________________________________________________\n",
      "Layer (type)                 Output Shape              Param #   \n",
      "=================================================================\n",
      "lstm_75 (LSTM)               (None, 10, 30)            3840      \n",
      "_________________________________________________________________\n",
      "dropout_74 (Dropout)         (None, 10, 30)            0         \n",
      "_________________________________________________________________\n",
      "lstm_76 (LSTM)               (None, 10, 30)            7320      \n",
      "_________________________________________________________________\n",
      "dropout_75 (Dropout)         (None, 10, 30)            0         \n",
      "_________________________________________________________________\n",
      "lstm_77 (LSTM)               (None, 30)                7320      \n",
      "_________________________________________________________________\n",
      "dropout_76 (Dropout)         (None, 30)                0         \n",
      "_________________________________________________________________\n",
      "dense_24 (Dense)             (None, 1)                 31        \n",
      "=================================================================\n",
      "Total params: 18,511\n",
      "Trainable params: 18,511\n",
      "Non-trainable params: 0\n",
      "_________________________________________________________________\n"
     ]
    }
   ],
   "source": [
    "# Summarize the model\n",
    "# YOUR CODE HERE!\n",
    "model.summary()"
   ]
  },
  {
   "cell_type": "code",
   "execution_count": 409,
   "metadata": {},
   "outputs": [
    {
     "name": "stdout",
     "output_type": "stream",
     "text": [
      "Epoch 1/10\n",
      "371/371 [==============================] - 3s 8ms/step - loss: 0.0569\n",
      "Epoch 2/10\n",
      "371/371 [==============================] - 3s 7ms/step - loss: 0.0482\n",
      "Epoch 3/10\n",
      "371/371 [==============================] - 3s 7ms/step - loss: 0.0491\n",
      "Epoch 4/10\n",
      "371/371 [==============================] - 3s 7ms/step - loss: 0.0455\n",
      "Epoch 5/10\n",
      "371/371 [==============================] - 3s 7ms/step - loss: 0.0469\n",
      "Epoch 6/10\n",
      "371/371 [==============================] - 3s 7ms/step - loss: 0.0471\n",
      "Epoch 7/10\n",
      "371/371 [==============================] - 3s 7ms/step - loss: 0.0475\n",
      "Epoch 8/10\n",
      "371/371 [==============================] - 3s 7ms/step - loss: 0.0438\n",
      "Epoch 9/10\n",
      "371/371 [==============================] - 3s 7ms/step - loss: 0.0475\n",
      "Epoch 10/10\n",
      "371/371 [==============================] - 3s 7ms/step - loss: 0.0460\n"
     ]
    },
    {
     "data": {
      "text/plain": [
       "<tensorflow.python.keras.callbacks.History at 0x1efdae7a548>"
      ]
     },
     "execution_count": 409,
     "metadata": {},
     "output_type": "execute_result"
    }
   ],
   "source": [
    "# Train the model\n",
    "# Use at least 10 epochs\n",
    "# Do not shuffle the data\n",
    "# Experiement with the batch size, but a smaller batch size is recommended\n",
    "# YOUR CODE HERE!\n",
    "batch_size = 1\n",
    "epochs = 10\n",
    "model.fit(\n",
    "    X_train,\n",
    "    y_train,\n",
    "    epochs=epochs,\n",
    "    batch_size=batch_size,\n",
    "    verbose=1,\n",
    ")"
   ]
  },
  {
   "cell_type": "markdown",
   "metadata": {},
   "source": [
    "---"
   ]
  },
  {
   "cell_type": "markdown",
   "metadata": {},
   "source": [
    "## Model Performance\n",
    "\n",
    "In this section, you will evaluate the model using the test data. \n",
    "\n",
    "You will need to:\n",
    "1. Evaluate the model using the `X_test` and `y_test` data.\n",
    "2. Use the X_test data to make predictions\n",
    "3. Create a DataFrame of Real (y_test) vs predicted values. \n",
    "4. Plot the Real vs predicted values as a line chart\n",
    "\n",
    "### Hints\n",
    "Remember to apply the `inverse_transform` function to the predicted and y_test values to recover the actual closing prices."
   ]
  },
  {
   "cell_type": "code",
   "execution_count": 410,
   "metadata": {},
   "outputs": [
    {
     "name": "stdout",
     "output_type": "stream",
     "text": [
      "5/5 [==============================] - 0s 4ms/step - loss: 0.1021\n"
     ]
    },
    {
     "data": {
      "text/plain": [
       "0.10212397575378418"
      ]
     },
     "execution_count": 410,
     "metadata": {},
     "output_type": "execute_result"
    }
   ],
   "source": [
    "# Evaluate the model\n",
    "# YOUR CODE HERE!\n",
    "model.evaluate(X_test, y_test)"
   ]
  },
  {
   "cell_type": "code",
   "execution_count": 411,
   "metadata": {},
   "outputs": [],
   "source": [
    "# Make some predictions\n",
    "# YOUR CODE HERE!\n",
    "predicted = model.predict(X_test)"
   ]
  },
  {
   "cell_type": "code",
   "execution_count": 412,
   "metadata": {},
   "outputs": [],
   "source": [
    "# Recover the original prices instead of the scaled version\n",
    "predicted_prices = y_test_scaler.inverse_transform(predicted)\n",
    "real_prices = y_test_scaler.inverse_transform(y_test.reshape(-1, 1))"
   ]
  },
  {
   "cell_type": "code",
   "execution_count": 413,
   "metadata": {},
   "outputs": [
    {
     "data": {
      "text/html": [
       "<div>\n",
       "<style scoped>\n",
       "    .dataframe tbody tr th:only-of-type {\n",
       "        vertical-align: middle;\n",
       "    }\n",
       "\n",
       "    .dataframe tbody tr th {\n",
       "        vertical-align: top;\n",
       "    }\n",
       "\n",
       "    .dataframe thead th {\n",
       "        text-align: right;\n",
       "    }\n",
       "</style>\n",
       "<table border=\"1\" class=\"dataframe\">\n",
       "  <thead>\n",
       "    <tr style=\"text-align: right;\">\n",
       "      <th></th>\n",
       "      <th>Real</th>\n",
       "      <th>Predicted</th>\n",
       "    </tr>\n",
       "  </thead>\n",
       "  <tbody>\n",
       "    <tr>\n",
       "      <th>2019-02-20</th>\n",
       "      <td>3924.239990</td>\n",
       "      <td>7560.942871</td>\n",
       "    </tr>\n",
       "    <tr>\n",
       "      <th>2019-02-21</th>\n",
       "      <td>3974.050049</td>\n",
       "      <td>7766.484863</td>\n",
       "    </tr>\n",
       "    <tr>\n",
       "      <th>2019-02-22</th>\n",
       "      <td>3937.040039</td>\n",
       "      <td>7970.374512</td>\n",
       "    </tr>\n",
       "    <tr>\n",
       "      <th>2019-02-23</th>\n",
       "      <td>3983.530029</td>\n",
       "      <td>8177.996094</td>\n",
       "    </tr>\n",
       "    <tr>\n",
       "      <th>2019-02-24</th>\n",
       "      <td>4149.089844</td>\n",
       "      <td>8340.108398</td>\n",
       "    </tr>\n",
       "  </tbody>\n",
       "</table>\n",
       "</div>"
      ],
      "text/plain": [
       "                   Real    Predicted\n",
       "2019-02-20  3924.239990  7560.942871\n",
       "2019-02-21  3974.050049  7766.484863\n",
       "2019-02-22  3937.040039  7970.374512\n",
       "2019-02-23  3983.530029  8177.996094\n",
       "2019-02-24  4149.089844  8340.108398"
      ]
     },
     "execution_count": 413,
     "metadata": {},
     "output_type": "execute_result"
    }
   ],
   "source": [
    "# Create a DataFrame of Real and Predicted values\n",
    "stocks = pd.DataFrame({\n",
    "    \"Real\": real_prices.ravel(),\n",
    "    \"Predicted\": predicted_prices.ravel()\n",
    "    }, index = df.index[-len(real_prices): ])\n",
    "stocks.head()"
   ]
  },
  {
   "cell_type": "code",
   "execution_count": 414,
   "metadata": {},
   "outputs": [
    {
     "data": {},
     "metadata": {},
     "output_type": "display_data"
    },
    {
     "data": {
      "application/vnd.holoviews_exec.v0+json": "",
      "text/html": [
       "<div id='7796'>\n",
       "\n",
       "\n",
       "\n",
       "\n",
       "\n",
       "  <div class=\"bk-root\" id=\"137c4dbb-966f-4ae4-a351-c063a40a79fd\" data-root-id=\"7796\"></div>\n",
       "</div>\n",
       "<script type=\"application/javascript\">(function(root) {\n",
       "  function embed_document(root) {\n",
       "  var docs_json = {\"deea7967-ef4b-4565-a026-eb1e171ffb3d\":{\"roots\":{\"references\":[{\"attributes\":{\"data_source\":{\"id\":\"7866\"},\"glyph\":{\"id\":\"7869\"},\"hover_glyph\":null,\"muted_glyph\":{\"id\":\"7871\"},\"nonselection_glyph\":{\"id\":\"7870\"},\"selection_glyph\":null,\"view\":{\"id\":\"7873\"}},\"id\":\"7872\",\"type\":\"GlyphRenderer\"},{\"attributes\":{},\"id\":\"7837\",\"type\":\"Selection\"},{\"attributes\":{\"base\":24,\"mantissas\":[1,2,4,6,8,12],\"max_interval\":43200000.0,\"min_interval\":3600000.0,\"num_minor_ticks\":0},\"id\":\"7854\",\"type\":\"AdaptiveTicker\"},{\"attributes\":{},\"id\":\"7851\",\"type\":\"UnionRenderers\"},{\"attributes\":{\"line_color\":\"#1f77b3\",\"line_width\":2,\"x\":{\"field\":\"index\"},\"y\":{\"field\":\"value\"}},\"id\":\"7839\",\"type\":\"Line\"},{\"attributes\":{\"data\":{\"Variable\":[\"Predicted\",\"Predicted\",\"Predicted\",\"Predicted\",\"Predicted\",\"Predicted\",\"Predicted\",\"Predicted\",\"Predicted\",\"Predicted\",\"Predicted\",\"Predicted\",\"Predicted\",\"Predicted\",\"Predicted\",\"Predicted\",\"Predicted\",\"Predicted\",\"Predicted\",\"Predicted\",\"Predicted\",\"Predicted\",\"Predicted\",\"Predicted\",\"Predicted\",\"Predicted\",\"Predicted\",\"Predicted\",\"Predicted\",\"Predicted\",\"Predicted\",\"Predicted\",\"Predicted\",\"Predicted\",\"Predicted\",\"Predicted\",\"Predicted\",\"Predicted\",\"Predicted\",\"Predicted\",\"Predicted\",\"Predicted\",\"Predicted\",\"Predicted\",\"Predicted\",\"Predicted\",\"Predicted\",\"Predicted\",\"Predicted\",\"Predicted\",\"Predicted\",\"Predicted\",\"Predicted\",\"Predicted\",\"Predicted\",\"Predicted\",\"Predicted\",\"Predicted\",\"Predicted\",\"Predicted\",\"Predicted\",\"Predicted\",\"Predicted\",\"Predicted\",\"Predicted\",\"Predicted\",\"Predicted\",\"Predicted\",\"Predicted\",\"Predicted\",\"Predicted\",\"Predicted\",\"Predicted\",\"Predicted\",\"Predicted\",\"Predicted\",\"Predicted\",\"Predicted\",\"Predicted\",\"Predicted\",\"Predicted\",\"Predicted\",\"Predicted\",\"Predicted\",\"Predicted\",\"Predicted\",\"Predicted\",\"Predicted\",\"Predicted\",\"Predicted\",\"Predicted\",\"Predicted\",\"Predicted\",\"Predicted\",\"Predicted\",\"Predicted\",\"Predicted\",\"Predicted\",\"Predicted\",\"Predicted\",\"Predicted\",\"Predicted\",\"Predicted\",\"Predicted\",\"Predicted\",\"Predicted\",\"Predicted\",\"Predicted\",\"Predicted\",\"Predicted\",\"Predicted\",\"Predicted\",\"Predicted\",\"Predicted\",\"Predicted\",\"Predicted\",\"Predicted\",\"Predicted\",\"Predicted\",\"Predicted\",\"Predicted\",\"Predicted\",\"Predicted\",\"Predicted\",\"Predicted\",\"Predicted\",\"Predicted\",\"Predicted\",\"Predicted\",\"Predicted\",\"Predicted\",\"Predicted\",\"Predicted\",\"Predicted\",\"Predicted\",\"Predicted\",\"Predicted\",\"Predicted\",\"Predicted\",\"Predicted\",\"Predicted\",\"Predicted\",\"Predicted\",\"Predicted\",\"Predicted\",\"Predicted\",\"Predicted\",\"Predicted\",\"Predicted\",\"Predicted\",\"Predicted\",\"Predicted\",\"Predicted\",\"Predicted\",\"Predicted\",\"Predicted\",\"Predicted\",\"Predicted\",\"Predicted\",\"Predicted\"],\"index\":{\"__ndarray__\":\"AABAO4OQdkIAAACh1ZB2QgAAwAYokXZCAACAbHqRdkIAAEDSzJF2QgAAADgfknZCAADAnXGSdkIAAIADxJJ2QgAAQGkWk3ZCAAAAz2iTdkIAAMA0u5N2QgAAgJoNlHZCAABAAGCUdkIAAABmspR2QgAAwMsElXZCAACAMVeVdkIAAECXqZV2QgAAAP37lXZCAADAYk6WdkIAAIDIoJZ2QgAAQC7zlnZCAAAAlEWXdkIAAMD5l5d2QgAAgF/ql3ZCAABAxTyYdkIAAAArj5h2QgAAwJDhmHZCAACA9jOZdkIAAEBchpl2QgAAAMLYmXZCAADAJyuadkIAAICNfZp2QgAAQPPPmnZCAAAAWSKbdkIAAMC+dJt2QgAAgCTHm3ZCAABAihmcdkIAAADwa5x2QgAAwFW+nHZCAACAuxCddkIAAEAhY512QgAAAIe1nXZCAADA7AeedkIAAIBSWp52QgAAQLisnnZCAAAAHv+edkIAAMCDUZ92QgAAgOmjn3ZCAABAT/afdkIAAAC1SKB2QgAAwBqboHZCAACAgO2gdkIAAEDmP6F2QgAAAEySoXZCAADAseShdkIAAIAXN6J2QgAAQH2JonZCAAAA49uidkIAAMBILqN2QgAAgK6Ao3ZCAABAFNOjdkIAAAB6JaR2QgAAwN93pHZCAACARcqkdkIAAECrHKV2QgAAABFvpXZCAADAdsGldkIAAIDcE6Z2QgAAQEJmpnZCAAAAqLimdkIAAMANC6d2QgAAgHNdp3ZCAABA2a+ndkIAAAA/Aqh2QgAAwKRUqHZCAACACqeodkIAAEBw+ah2QgAAANZLqXZCAADAO56pdkIAAICh8Kl2QgAAQAdDqnZCAAAAbZWqdkIAAMDS56p2QgAAgDg6q3ZCAABAnoyrdkIAAAAE36t2QgAAwGkxrHZCAACAz4OsdkIAAEA11qx2QgAAAJsorXZCAADAAHutdkIAAIBmza12QgAAQMwfrnZCAAAAMnKudkIAAMCXxK52QgAAgP0Wr3ZCAABAY2mvdkIAAADJu692QgAAwC4OsHZCAACAlGCwdkIAAED6srB2QgAAAGAFsXZCAADAxVexdkIAAIArqrF2QgAAQJH8sXZCAAAA906ydkIAAMBcobJ2QgAAgMLzsnZCAABAKEazdkIAAACOmLN2QgAAwPPqs3ZCAACAWT20dkIAAEC/j7R2QgAAACXitHZCAADAijS1dkIAAIDwhrV2QgAAQFbZtXZCAAAAvCu2dkIAAMAhfrZ2QgAAgIfQtnZCAABA7SK3dkIAAABTdbd2QgAAwLjHt3ZCAACAHhq4dkIAAECEbLh2QgAAAOq+uHZCAADATxG5dkIAAIC1Y7l2QgAAQBu2uXZCAAAAgQi6dkIAAMDmWrp2QgAAgEytunZCAABAsv+6dkIAAAAYUrt2QgAAwH2ku3ZCAACA4/a7dkIAAEBJSbx2QgAAAK+bvHZCAADAFO68dkIAAIB6QL12QgAAQOCSvXZCAAAARuW9dkIAAMCrN752QgAAgBGKvnZCAABAd9y+dkIAAADdLr92QgAAwEKBv3ZCAACAqNO/dkIAAEAOJsB2QgAAAHR4wHZCAADA2crAdkIAAIA/HcF2QgAAQKVvwXZCAAAAC8LBdkIAAMBwFMJ2QgAAgNZmwnZCAABAPLnCdkIAAACiC8N2QgAAwAdew3ZCAACAbbDDdkI=\",\"dtype\":\"float64\",\"order\":\"little\",\"shape\":[160]},\"value\":{\"__ndarray__\":\"i0fsReGz8kX/EvlF+I//RW9QAkY2xARGUt0HRmqkCEYTPAdGp6MERhN0AEbaZ/lFx5XzRS9S70WUyupFHAjmRf1G4kViNeRFIbHoRXAc7kU5g/NFWV/4RRDJ/EWK5P9FGnsBRui3AkakSgNGSXcDRgjEA0Zv/ANGThAERgu5BEYEKAVGwNMERptQA0bkagFGC4D+RXL3+UU8EfdFBI71RRBu9kUG+PdFbeD7RW9TAEZ09QNGf8wGRqrJCEbhnQpGLpAMRggmDkbd+w5G2VgPRvlwD0auOQ1G1kALRuBlCUbIYghGr6cGRm2zBUYpAgZGg6gGRu+OB0YIVAhGgeUJRkD/CkYtlQxG+8oMRiERC0bamAdGQ3gDRg10/0U4zfhFquL0RW8F80X9UvRF0x35RVkcAEazXgNGdsUGRtiSCUZ3TAxG5B0PRisAEkZR7RRGSGMXRt2sGUaemhtGml8dRiLmHEaiDxxGwf8aRlxhGkZHVxlGQnEYRhkPF0aFexVGW4cURlHgE0ZBJxRG4qQURmcnFUYS1BVGK3sVRnhsFEZsXxNGaK8SRnt0D0ZGvwlGR3IDRpiv+UWtP/NFYUfyRQLQ8kUiifVFz2j5RSEV/kVa4wJG0RcIRrSqDUbAABRG+HkYRm9sHEbEPCBG8fIiRpI2JUYDBidGMd0nRvbAKEa9oypGoIUsRmyuKkYGgChG9cAmRhC4I0biHSBGlDceRmVaHUaKnhtGQ/EZRhdMGEYB0BhGmzcaRpwwHEa/dBxGSCsYRgA9FEbwNxFGYdkKRmH5A0YWK/lFwjDtRdBE5EX3kN1FSFrbRe3z3EW1DNxFbbfYRcr52UU58tdFwmrZRQ==\",\"dtype\":\"float32\",\"order\":\"little\",\"shape\":[160]}},\"selected\":{\"id\":\"7867\"},\"selection_policy\":{\"id\":\"7883\"}},\"id\":\"7866\",\"type\":\"ColumnDataSource\"},{\"attributes\":{\"label\":{\"value\":\"Predicted\"},\"renderers\":[{\"id\":\"7872\"}]},\"id\":\"7896\",\"type\":\"LegendItem\"},{\"attributes\":{},\"id\":\"7863\",\"type\":\"YearsTicker\"},{\"attributes\":{\"align\":null,\"below\":[{\"id\":\"7811\"}],\"center\":[{\"id\":\"7814\"},{\"id\":\"7818\"}],\"left\":[{\"id\":\"7815\"}],\"margin\":null,\"min_border_bottom\":10,\"min_border_left\":10,\"min_border_right\":10,\"min_border_top\":10,\"plot_height\":300,\"plot_width\":700,\"renderers\":[{\"id\":\"7842\"},{\"id\":\"7872\"}],\"right\":[{\"id\":\"7864\"}],\"sizing_mode\":\"fixed\",\"title\":{\"id\":\"7803\"},\"toolbar\":{\"id\":\"7825\"},\"x_range\":{\"id\":\"7798\"},\"x_scale\":{\"id\":\"7807\"},\"y_range\":{\"id\":\"7799\"},\"y_scale\":{\"id\":\"7809\"}},\"id\":\"7802\",\"subtype\":\"Figure\",\"type\":\"Plot\"},{\"attributes\":{\"days\":[1,15]},\"id\":\"7858\",\"type\":\"DaysTicker\"},{\"attributes\":{\"callback\":null,\"formatters\":{\"@{index}\":\"datetime\"},\"renderers\":[{\"id\":\"7842\"},{\"id\":\"7872\"}],\"tags\":[\"hv_created\"],\"tooltips\":[[\"Variable\",\"@{Variable}\"],[\"index\",\"@{index}{%F %T}\"],[\"value\",\"@{value}\"]]},\"id\":\"7800\",\"type\":\"HoverTool\"},{\"attributes\":{},\"id\":\"7883\",\"type\":\"UnionRenderers\"},{\"attributes\":{\"axis_label\":\"\",\"bounds\":\"auto\",\"formatter\":{\"id\":\"7833\"},\"major_label_orientation\":\"horizontal\",\"ticker\":{\"id\":\"7812\"}},\"id\":\"7811\",\"type\":\"DatetimeAxis\"},{\"attributes\":{},\"id\":\"7867\",\"type\":\"Selection\"},{\"attributes\":{\"days\":[1,4,7,10,13,16,19,22,25,28]},\"id\":\"7856\",\"type\":\"DaysTicker\"},{\"attributes\":{\"days\":[1,8,15,22]},\"id\":\"7857\",\"type\":\"DaysTicker\"},{\"attributes\":{\"margin\":[5,5,5,5],\"name\":\"HSpacer09113\",\"sizing_mode\":\"stretch_width\"},\"id\":\"8095\",\"type\":\"Spacer\"},{\"attributes\":{\"source\":{\"id\":\"7836\"}},\"id\":\"7843\",\"type\":\"CDSView\"},{\"attributes\":{\"active_drag\":\"auto\",\"active_inspect\":\"auto\",\"active_multi\":null,\"active_scroll\":\"auto\",\"active_tap\":\"auto\",\"tools\":[{\"id\":\"7800\"},{\"id\":\"7819\"},{\"id\":\"7820\"},{\"id\":\"7821\"},{\"id\":\"7822\"},{\"id\":\"7823\"}]},\"id\":\"7825\",\"type\":\"Toolbar\"},{\"attributes\":{\"months\":[0,4,8]},\"id\":\"7861\",\"type\":\"MonthsTicker\"},{\"attributes\":{},\"id\":\"7807\",\"type\":\"LinearScale\"},{\"attributes\":{\"overlay\":{\"id\":\"7824\"}},\"id\":\"7822\",\"type\":\"BoxZoomTool\"},{\"attributes\":{\"line_alpha\":0.1,\"line_color\":\"#1f77b3\",\"line_width\":2,\"x\":{\"field\":\"index\"},\"y\":{\"field\":\"value\"}},\"id\":\"7840\",\"type\":\"Line\"},{\"attributes\":{\"line_alpha\":0.1,\"line_color\":\"#ff7e0e\",\"line_width\":2,\"x\":{\"field\":\"index\"},\"y\":{\"field\":\"value\"}},\"id\":\"7870\",\"type\":\"Line\"},{\"attributes\":{\"data_source\":{\"id\":\"7836\"},\"glyph\":{\"id\":\"7839\"},\"hover_glyph\":null,\"muted_glyph\":{\"id\":\"7841\"},\"nonselection_glyph\":{\"id\":\"7840\"},\"selection_glyph\":null,\"view\":{\"id\":\"7843\"}},\"id\":\"7842\",\"type\":\"GlyphRenderer\"},{\"attributes\":{\"mantissas\":[1,2,5],\"max_interval\":500.0,\"num_minor_ticks\":0},\"id\":\"7852\",\"type\":\"AdaptiveTicker\"},{\"attributes\":{\"line_alpha\":0.2,\"line_color\":\"#1f77b3\",\"line_width\":2,\"x\":{\"field\":\"index\"},\"y\":{\"field\":\"value\"}},\"id\":\"7841\",\"type\":\"Line\"},{\"attributes\":{\"months\":[0,2,4,6,8,10]},\"id\":\"7860\",\"type\":\"MonthsTicker\"},{\"attributes\":{},\"id\":\"7809\",\"type\":\"LinearScale\"},{\"attributes\":{\"axis\":{\"id\":\"7815\"},\"dimension\":1,\"grid_line_color\":null,\"ticker\":null},\"id\":\"7818\",\"type\":\"Grid\"},{\"attributes\":{},\"id\":\"7821\",\"type\":\"WheelZoomTool\"},{\"attributes\":{\"num_minor_ticks\":5,\"tickers\":[{\"id\":\"7852\"},{\"id\":\"7853\"},{\"id\":\"7854\"},{\"id\":\"7855\"},{\"id\":\"7856\"},{\"id\":\"7857\"},{\"id\":\"7858\"},{\"id\":\"7859\"},{\"id\":\"7860\"},{\"id\":\"7861\"},{\"id\":\"7862\"},{\"id\":\"7863\"}]},\"id\":\"7812\",\"type\":\"DatetimeTicker\"},{\"attributes\":{\"axis_label\":\"\",\"bounds\":\"auto\",\"formatter\":{\"id\":\"7835\"},\"major_label_orientation\":\"horizontal\",\"ticker\":{\"id\":\"7816\"}},\"id\":\"7815\",\"type\":\"LinearAxis\"},{\"attributes\":{\"line_alpha\":0.2,\"line_color\":\"#ff7e0e\",\"line_width\":2,\"x\":{\"field\":\"index\"},\"y\":{\"field\":\"value\"}},\"id\":\"7871\",\"type\":\"Line\"},{\"attributes\":{\"base\":60,\"mantissas\":[1,2,5,10,15,20,30],\"max_interval\":1800000.0,\"min_interval\":1000.0,\"num_minor_ticks\":0},\"id\":\"7853\",\"type\":\"AdaptiveTicker\"},{\"attributes\":{\"days\":[1,2,3,4,5,6,7,8,9,10,11,12,13,14,15,16,17,18,19,20,21,22,23,24,25,26,27,28,29,30,31]},\"id\":\"7855\",\"type\":\"DaysTicker\"},{\"attributes\":{\"axis\":{\"id\":\"7811\"},\"grid_line_color\":null,\"ticker\":null},\"id\":\"7814\",\"type\":\"Grid\"},{\"attributes\":{},\"id\":\"7820\",\"type\":\"PanTool\"},{\"attributes\":{\"text\":\"Real vs. Predicted Stock Price\",\"text_color\":{\"value\":\"black\"},\"text_font_size\":{\"value\":\"12pt\"}},\"id\":\"7803\",\"type\":\"Title\"},{\"attributes\":{\"data\":{\"Variable\":[\"Real\",\"Real\",\"Real\",\"Real\",\"Real\",\"Real\",\"Real\",\"Real\",\"Real\",\"Real\",\"Real\",\"Real\",\"Real\",\"Real\",\"Real\",\"Real\",\"Real\",\"Real\",\"Real\",\"Real\",\"Real\",\"Real\",\"Real\",\"Real\",\"Real\",\"Real\",\"Real\",\"Real\",\"Real\",\"Real\",\"Real\",\"Real\",\"Real\",\"Real\",\"Real\",\"Real\",\"Real\",\"Real\",\"Real\",\"Real\",\"Real\",\"Real\",\"Real\",\"Real\",\"Real\",\"Real\",\"Real\",\"Real\",\"Real\",\"Real\",\"Real\",\"Real\",\"Real\",\"Real\",\"Real\",\"Real\",\"Real\",\"Real\",\"Real\",\"Real\",\"Real\",\"Real\",\"Real\",\"Real\",\"Real\",\"Real\",\"Real\",\"Real\",\"Real\",\"Real\",\"Real\",\"Real\",\"Real\",\"Real\",\"Real\",\"Real\",\"Real\",\"Real\",\"Real\",\"Real\",\"Real\",\"Real\",\"Real\",\"Real\",\"Real\",\"Real\",\"Real\",\"Real\",\"Real\",\"Real\",\"Real\",\"Real\",\"Real\",\"Real\",\"Real\",\"Real\",\"Real\",\"Real\",\"Real\",\"Real\",\"Real\",\"Real\",\"Real\",\"Real\",\"Real\",\"Real\",\"Real\",\"Real\",\"Real\",\"Real\",\"Real\",\"Real\",\"Real\",\"Real\",\"Real\",\"Real\",\"Real\",\"Real\",\"Real\",\"Real\",\"Real\",\"Real\",\"Real\",\"Real\",\"Real\",\"Real\",\"Real\",\"Real\",\"Real\",\"Real\",\"Real\",\"Real\",\"Real\",\"Real\",\"Real\",\"Real\",\"Real\",\"Real\",\"Real\",\"Real\",\"Real\",\"Real\",\"Real\",\"Real\",\"Real\",\"Real\",\"Real\",\"Real\",\"Real\",\"Real\",\"Real\",\"Real\",\"Real\",\"Real\",\"Real\",\"Real\",\"Real\",\"Real\",\"Real\",\"Real\"],\"index\":{\"__ndarray__\":\"AABAO4OQdkIAAACh1ZB2QgAAwAYokXZCAACAbHqRdkIAAEDSzJF2QgAAADgfknZCAADAnXGSdkIAAIADxJJ2QgAAQGkWk3ZCAAAAz2iTdkIAAMA0u5N2QgAAgJoNlHZCAABAAGCUdkIAAABmspR2QgAAwMsElXZCAACAMVeVdkIAAECXqZV2QgAAAP37lXZCAADAYk6WdkIAAIDIoJZ2QgAAQC7zlnZCAAAAlEWXdkIAAMD5l5d2QgAAgF/ql3ZCAABAxTyYdkIAAAArj5h2QgAAwJDhmHZCAACA9jOZdkIAAEBchpl2QgAAAMLYmXZCAADAJyuadkIAAICNfZp2QgAAQPPPmnZCAAAAWSKbdkIAAMC+dJt2QgAAgCTHm3ZCAABAihmcdkIAAADwa5x2QgAAwFW+nHZCAACAuxCddkIAAEAhY512QgAAAIe1nXZCAADA7AeedkIAAIBSWp52QgAAQLisnnZCAAAAHv+edkIAAMCDUZ92QgAAgOmjn3ZCAABAT/afdkIAAAC1SKB2QgAAwBqboHZCAACAgO2gdkIAAEDmP6F2QgAAAEySoXZCAADAseShdkIAAIAXN6J2QgAAQH2JonZCAAAA49uidkIAAMBILqN2QgAAgK6Ao3ZCAABAFNOjdkIAAAB6JaR2QgAAwN93pHZCAACARcqkdkIAAECrHKV2QgAAABFvpXZCAADAdsGldkIAAIDcE6Z2QgAAQEJmpnZCAAAAqLimdkIAAMANC6d2QgAAgHNdp3ZCAABA2a+ndkIAAAA/Aqh2QgAAwKRUqHZCAACACqeodkIAAEBw+ah2QgAAANZLqXZCAADAO56pdkIAAICh8Kl2QgAAQAdDqnZCAAAAbZWqdkIAAMDS56p2QgAAgDg6q3ZCAABAnoyrdkIAAAAE36t2QgAAwGkxrHZCAACAz4OsdkIAAEA11qx2QgAAAJsorXZCAADAAHutdkIAAIBmza12QgAAQMwfrnZCAAAAMnKudkIAAMCXxK52QgAAgP0Wr3ZCAABAY2mvdkIAAADJu692QgAAwC4OsHZCAACAlGCwdkIAAED6srB2QgAAAGAFsXZCAADAxVexdkIAAIArqrF2QgAAQJH8sXZCAAAA906ydkIAAMBcobJ2QgAAgMLzsnZCAABAKEazdkIAAACOmLN2QgAAwPPqs3ZCAACAWT20dkIAAEC/j7R2QgAAACXitHZCAADAijS1dkIAAIDwhrV2QgAAQFbZtXZCAAAAvCu2dkIAAMAhfrZ2QgAAgIfQtnZCAABA7SK3dkIAAABTdbd2QgAAwLjHt3ZCAACAHhq4dkIAAECEbLh2QgAAAOq+uHZCAADATxG5dkIAAIC1Y7l2QgAAQBu2uXZCAAAAgQi6dkIAAMDmWrp2QgAAgEytunZCAABAsv+6dkIAAAAYUrt2QgAAwH2ku3ZCAACA4/a7dkIAAEBJSbx2QgAAAK+bvHZCAADAFO68dkIAAIB6QL12QgAAQOCSvXZCAAAARuW9dkIAAMCrN752QgAAgBGKvnZCAABAd9y+dkIAAADdLr92QgAAwEKBv3ZCAACAqNO/dkIAAEAOJsB2QgAAAHR4wHZCAADA2crAdkIAAIA/HcF2QgAAQKVvwXZCAAAAC8LBdkIAAMBwFMJ2QgAAgNZmwnZCAABAPLnCdkIAAACiC8N2QgAAwAdew3ZCAACAbbDDdkI=\",\"dtype\":\"float64\",\"order\":\"little\",\"shape\":[160]},\"value\":{\"__ndarray__\":\"vCL433qorkBmxAWgGQyvQCHn/X8Uwq5A3gn2Xw8fr0C+MQQAFzWwQGS1+X89d61ARN0HIAULrkCcSgaAwtOtQCP2CaBw7a1AZLX5f73erUB3RfC/9e6tQFZe8j/hBa5AqqENwJ7IrUDdCfZfjyatQAIPDCBcRK5Ad0Xwv/VFrkAg2PFfOFWuQIm6D0AKOK5AvCL433rXrkCHqwMgrrOuQOEnDqDHRa5A/vDz3yNhrkBWXvI/4UyuQFZe8j/hUq5AQs77/yiurkBE3QcgBXavQAAAAAAAPK9AyogLQLMpr0DgJw6gR3CvQAAAAACAsa9AAg8MINw5r0CHqwMgrkGvQN8YAoBrTq9AH9jxXzg0r0BmxAWgGamuQCP2CaBwzK5Ad0Xwv/Wbr0CaO/pf5oivQE4lA0BhD7BATiUDQCEWsEArL/mfsBCwQHpU/N9RN7BAhqsDIO4qs0C+MQQAl3CzQAtI+x9cMbNAvSL43zq3s0ABAAAAQMGzQELO+/8oUbRAvjEEABeutEAtPgXATFG0QGXEBaCZxrRA1dAGYI+4s0AAAAAAgNmzQELO+/+o2LNAvjEEAJcttEBE3QcgRa2zQNXQBmDPXLRAm0oGgEJ0tED/////v6m0QOlg/Z+Hr7RAhasDIC7OtEBktfl/vbm0QN8YAoCrErVAZcQFoBmjtUAh5/1/lE61QN8YAoCrKrRAvjEEABdytEC8Ivjfem20QNPB+j9zmLRAbwwBwPV1tED1twTgo+a0QJHz/j+KDbVAF58CYLh8tUBOJQNAYXm2QCHn/X8U0LZA9bcE4COitkDfGAKAK3S2QHlU/N+Ru7ZAbwwBwLVut0BvDAHA9Ru4QJHz/j9K1rhACkj7H1wXvEBPJQNAoUG7QApI+x9cfr5ATSUDQCEsv0Ah5/1/1Pe/QApI+x8cwr5AbgwBwPXLvEAh5/1/FGK8QHpU/N+RAMBAkfP+P0o+v0CHqwMg7gu/QPa3BODjyr1A/////3/EvkCaO/pfZjy/QE4lA0Ahe79A3xgCgB0LwUBvDAHAlSjBQLLa/L9sB8FA6WD9n0fswEAAAAAAICrAQG8MAcBVs8BAWW3+X++1wEAh5/1/9BDBQGS1+X99sr9AF58CYHj9vUCR8/4/Sm++QApI+x9cf75ATiUDQKFCv0DpYP2fx/2+QCsv+Z9w271AAAAAAABVv0B5VPzfUe2+QPa3BOAj7r9AvjEEAMkVwEA4hgDg+vrAQOlg/Z/HSsFAvjEEAJeJwUBOJQNAATzCQDiGAODavMFAyHn/H0UgwkCy2vy/bKDCQFlt/l9v9cNAyHn/H8XgxECy2vy//jPFQLLa/L/ejcVA3xgCgCvuxkB7VPzfozjJQN8YAoALycVA6WD9n4chyECy2vy/DDbHQBefAmCGCMVAWW3+X++vxECnkgGgEC7FQIarAyDOZsdAIef9f0LKxUAAAAAAoHjFQBefAmB4+MVAelT83yNpxkAg5/1/FATIQCHn/X+Ci8hAWW3+X4+hx0Babf5fjyfGQFlt/l+vCsdAhqsDIPwxxkAh5/1/NO7DQE4lA0AhMcVAF58CYLhnwkBOJQNAE/DCQLLa/L8sx8RAF58CYHiSxEBwDAHAtQPFQDiGAOBarcRAWW3+X+8qxEBOJQNAEz/DQHpU/N8RFsNAvjEEADdNw0DqYP2fuTvDQL4xBAApg8JAIef9f+KdwkA=\",\"dtype\":\"float64\",\"order\":\"little\",\"shape\":[160]}},\"selected\":{\"id\":\"7837\"},\"selection_policy\":{\"id\":\"7851\"}},\"id\":\"7836\",\"type\":\"ColumnDataSource\"},{\"attributes\":{\"line_color\":\"#ff7e0e\",\"line_width\":2,\"x\":{\"field\":\"index\"},\"y\":{\"field\":\"value\"}},\"id\":\"7869\",\"type\":\"Line\"},{\"attributes\":{\"source\":{\"id\":\"7866\"}},\"id\":\"7873\",\"type\":\"CDSView\"},{\"attributes\":{},\"id\":\"7833\",\"type\":\"DatetimeTickFormatter\"},{\"attributes\":{\"months\":[0,6]},\"id\":\"7862\",\"type\":\"MonthsTicker\"},{\"attributes\":{},\"id\":\"7819\",\"type\":\"SaveTool\"},{\"attributes\":{\"months\":[0,1,2,3,4,5,6,7,8,9,10,11]},\"id\":\"7859\",\"type\":\"MonthsTicker\"},{\"attributes\":{},\"id\":\"7823\",\"type\":\"ResetTool\"},{\"attributes\":{\"children\":[{\"id\":\"7797\"},{\"id\":\"7802\"},{\"id\":\"8095\"}],\"margin\":[0,0,0,0],\"name\":\"Row09108\",\"tags\":[\"embedded\"]},\"id\":\"7796\",\"type\":\"Row\"},{\"attributes\":{\"end\":13831.480297400003,\"reset_end\":13831.480297400003,\"reset_start\":2813.0800045999995,\"start\":2813.0800045999995,\"tags\":[[[\"value\",\"value\",null]]]},\"id\":\"7799\",\"type\":\"Range1d\"},{\"attributes\":{\"label\":{\"value\":\"Real\"},\"renderers\":[{\"id\":\"7842\"}]},\"id\":\"7865\",\"type\":\"LegendItem\"},{\"attributes\":{},\"id\":\"7835\",\"type\":\"BasicTickFormatter\"},{\"attributes\":{\"click_policy\":\"mute\",\"items\":[{\"id\":\"7865\"},{\"id\":\"7896\"}],\"location\":[0,0],\"title\":\"Variable\"},\"id\":\"7864\",\"type\":\"Legend\"},{\"attributes\":{},\"id\":\"7816\",\"type\":\"BasicTicker\"},{\"attributes\":{\"bottom_units\":\"screen\",\"fill_alpha\":0.5,\"fill_color\":\"lightgrey\",\"left_units\":\"screen\",\"level\":\"overlay\",\"line_alpha\":1.0,\"line_color\":\"black\",\"line_dash\":[4,4],\"line_width\":2,\"right_units\":\"screen\",\"top_units\":\"screen\"},\"id\":\"7824\",\"type\":\"BoxAnnotation\"},{\"attributes\":{\"end\":1564358400000.0,\"reset_end\":1564358400000.0,\"reset_start\":1550620800000.0,\"start\":1550620800000.0,\"tags\":[[[\"index\",\"index\",null]]]},\"id\":\"7798\",\"type\":\"Range1d\"},{\"attributes\":{\"margin\":[5,5,5,5],\"name\":\"HSpacer09112\",\"sizing_mode\":\"stretch_width\"},\"id\":\"7797\",\"type\":\"Spacer\"}],\"root_ids\":[\"7796\"]},\"title\":\"Bokeh Application\",\"version\":\"2.2.1\"}};\n",
       "  var render_items = [{\"docid\":\"deea7967-ef4b-4565-a026-eb1e171ffb3d\",\"root_ids\":[\"7796\"],\"roots\":{\"7796\":\"137c4dbb-966f-4ae4-a351-c063a40a79fd\"}}];\n",
       "  root.Bokeh.embed.embed_items_notebook(docs_json, render_items);\n",
       "  }\n",
       "if (root.Bokeh !== undefined) {\n",
       "    embed_document(root);\n",
       "  } else {\n",
       "    var attempts = 0;\n",
       "    var timer = setInterval(function(root) {\n",
       "      if (root.Bokeh !== undefined) {\n",
       "        clearInterval(timer);\n",
       "        embed_document(root);\n",
       "      } else if (document.readyState == \"complete\") {\n",
       "        attempts++;\n",
       "        if (attempts > 100) {\n",
       "          clearInterval(timer);\n",
       "          console.log(\"Bokeh: ERROR: Unable to run BokehJS code because BokehJS library is missing\");\n",
       "        }\n",
       "      }\n",
       "    }, 10, root)\n",
       "  }\n",
       "})(window);</script>"
      ],
      "text/plain": [
       ":NdOverlay   [Variable]\n",
       "   :Curve   [index]   (value)"
      ]
     },
     "execution_count": 414,
     "metadata": {
      "application/vnd.holoviews_exec.v0+json": {
       "id": "7796"
      }
     },
     "output_type": "execute_result"
    }
   ],
   "source": [
    "# Plot the real vs predicted values as a line chart\n",
    "# YOUR CODE HERE!\n",
    "stocks.hvplot(title=\"Real vs. Predicted Stock Price\")"
   ]
  },
  {
   "cell_type": "code",
   "execution_count": null,
   "metadata": {},
   "outputs": [],
   "source": []
  }
 ],
 "metadata": {
  "file_extension": ".py",
  "kernelspec": {
   "display_name": "Python 3",
   "language": "python",
   "name": "python3"
  },
  "language_info": {
   "codemirror_mode": {
    "name": "ipython",
    "version": 3
   },
   "file_extension": ".py",
   "mimetype": "text/x-python",
   "name": "python",
   "nbconvert_exporter": "python",
   "pygments_lexer": "ipython3",
   "version": "3.7.6"
  },
  "mimetype": "text/x-python",
  "name": "python",
  "npconvert_exporter": "python",
  "pygments_lexer": "ipython3",
  "version": 3
 },
 "nbformat": 4,
 "nbformat_minor": 4
}
